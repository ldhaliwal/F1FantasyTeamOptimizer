{
 "cells": [
  {
   "cell_type": "markdown",
   "metadata": {},
   "source": [
    "## 1. Library Imports and Data Loading"
   ]
  },
  {
   "cell_type": "code",
   "execution_count": 2,
   "metadata": {},
   "outputs": [],
   "source": [
    "import pandas as pd\n",
    "import numpy as np\n",
    "import seaborn as sns\n",
    "import matplotlib.pyplot as plt\n",
    "from sklearn.linear_model import LinearRegression\n",
    "from sklearn.model_selection import train_test_split\n",
    "from sklearn.metrics import confusion_matrix, ConfusionMatrixDisplay"
   ]
  },
  {
   "cell_type": "markdown",
   "metadata": {},
   "source": [
    "## Driver model - Multiple regression "
   ]
  },
  {
   "cell_type": "code",
   "execution_count": 3,
   "metadata": {},
   "outputs": [],
   "source": [
    "driver_df = pd.read_csv(\"data/driver_data_v3.csv\")"
   ]
  },
  {
   "cell_type": "code",
   "execution_count": 4,
   "metadata": {},
   "outputs": [
    {
     "data": {
      "text/html": [
       "<div>\n",
       "<style scoped>\n",
       "    .dataframe tbody tr th:only-of-type {\n",
       "        vertical-align: middle;\n",
       "    }\n",
       "\n",
       "    .dataframe tbody tr th {\n",
       "        vertical-align: top;\n",
       "    }\n",
       "\n",
       "    .dataframe thead th {\n",
       "        text-align: right;\n",
       "    }\n",
       "</style>\n",
       "<table border=\"1\" class=\"dataframe\">\n",
       "  <thead>\n",
       "    <tr style=\"text-align: right;\">\n",
       "      <th></th>\n",
       "      <th>driver</th>\n",
       "      <th>position</th>\n",
       "      <th>gap_to_leader</th>\n",
       "      <th>fantasy_points</th>\n",
       "    </tr>\n",
       "  </thead>\n",
       "  <tbody>\n",
       "    <tr>\n",
       "      <th>0</th>\n",
       "      <td>VER_r1</td>\n",
       "      <td>3</td>\n",
       "      <td>0.238</td>\n",
       "      <td>45</td>\n",
       "    </tr>\n",
       "    <tr>\n",
       "      <th>1</th>\n",
       "      <td>PER_r1</td>\n",
       "      <td>8</td>\n",
       "      <td>0.424</td>\n",
       "      <td>31</td>\n",
       "    </tr>\n",
       "    <tr>\n",
       "      <th>2</th>\n",
       "      <td>NOR_r1</td>\n",
       "      <td>5</td>\n",
       "      <td>0.294</td>\n",
       "      <td>16</td>\n",
       "    </tr>\n",
       "    <tr>\n",
       "      <th>3</th>\n",
       "      <td>LEC_r1</td>\n",
       "      <td>4</td>\n",
       "      <td>0.270</td>\n",
       "      <td>22</td>\n",
       "    </tr>\n",
       "    <tr>\n",
       "      <th>4</th>\n",
       "      <td>SAI_r1</td>\n",
       "      <td>1</td>\n",
       "      <td>0.000</td>\n",
       "      <td>36</td>\n",
       "    </tr>\n",
       "    <tr>\n",
       "      <th>...</th>\n",
       "      <td>...</td>\n",
       "      <td>...</td>\n",
       "      <td>...</td>\n",
       "      <td>...</td>\n",
       "    </tr>\n",
       "    <tr>\n",
       "      <th>95</th>\n",
       "      <td>SAR_r5</td>\n",
       "      <td>15</td>\n",
       "      <td>1.984</td>\n",
       "      <td>8</td>\n",
       "    </tr>\n",
       "    <tr>\n",
       "      <th>96</th>\n",
       "      <td>HUL_r5</td>\n",
       "      <td>5</td>\n",
       "      <td>0.799</td>\n",
       "      <td>4</td>\n",
       "    </tr>\n",
       "    <tr>\n",
       "      <th>97</th>\n",
       "      <td>TSU_r5</td>\n",
       "      <td>12</td>\n",
       "      <td>1.704</td>\n",
       "      <td>-6</td>\n",
       "    </tr>\n",
       "    <tr>\n",
       "      <th>98</th>\n",
       "      <td>RIC_r5</td>\n",
       "      <td>9</td>\n",
       "      <td>0.936</td>\n",
       "      <td>-6</td>\n",
       "    </tr>\n",
       "    <tr>\n",
       "      <th>99</th>\n",
       "      <td>BOT_r5</td>\n",
       "      <td>10</td>\n",
       "      <td>1.228</td>\n",
       "      <td>-14</td>\n",
       "    </tr>\n",
       "  </tbody>\n",
       "</table>\n",
       "<p>100 rows × 4 columns</p>\n",
       "</div>"
      ],
      "text/plain": [
       "    driver  position  gap_to_leader  fantasy_points\n",
       "0   VER_r1         3          0.238              45\n",
       "1   PER_r1         8          0.424              31\n",
       "2   NOR_r1         5          0.294              16\n",
       "3   LEC_r1         4          0.270              22\n",
       "4   SAI_r1         1          0.000              36\n",
       "..     ...       ...            ...             ...\n",
       "95  SAR_r5        15          1.984               8\n",
       "96  HUL_r5         5          0.799               4\n",
       "97  TSU_r5        12          1.704              -6\n",
       "98  RIC_r5         9          0.936              -6\n",
       "99  BOT_r5        10          1.228             -14\n",
       "\n",
       "[100 rows x 4 columns]"
      ]
     },
     "execution_count": 4,
     "metadata": {},
     "output_type": "execute_result"
    }
   ],
   "source": [
    "driver_df"
   ]
  },
  {
   "cell_type": "code",
   "execution_count": 12,
   "metadata": {},
   "outputs": [
    {
     "data": {
      "image/png": "[encoded data removed]",
      "text/plain": [
       "<Figure size 1500x500 with 2 Axes>"
      ]
     },
     "metadata": {},
     "output_type": "display_data"
    }
   ],
   "source": [
    "# Make sure the relationship looks linear\n",
    "possible_features = ['position', 'gap_to_leader']\n",
    "\n",
    "# Create 3 axes in 1 row that don't share the y axis\n",
    "fig, axes = plt.subplots(nrows=1, ncols=len(possible_features), figsize=(15, 5), sharey=False)\n",
    "\n",
    "# Loop through \n",
    "for index, feature in enumerate(possible_features):\n",
    "    sns.scatterplot(data=driver_df, x=feature, y=\"fantasy_points\", ax=axes[index])\n",
    "    axes[index].set_title(f'points vs {feature}')\n",
    "\n",
    "fig.suptitle(\"Scatterplots of fantasy points scored by a driver against other features\", fontsize=16)\n",
    "fig.tight_layout()"
   ]
  },
  {
   "cell_type": "code",
   "execution_count": 7,
   "metadata": {},
   "outputs": [
    {
     "name": "stdout",
     "output_type": "stream",
     "text": [
      "Features: ['position', 'gap_to_leader'] Score: 0.17237555292806261\n",
      "Feature: position Score Diff: 0.15608931285588823 Score: 0.016286240072174385\n",
      "Feature: gap_to_leader Score Diff: 0.0375461275227299 Score: 0.13482942540533271\n",
      "Removed Feature: gap_to_leader\n",
      "Features: ['position'] Score: 0.13482942540533271\n"
     ]
    }
   ],
   "source": [
    "# Create the model with everything first\n",
    "selected_features = ['position', 'gap_to_leader']\n",
    "y_train = driver_df[\"fantasy_points\"]\n",
    "\n",
    "# Initialize the model\n",
    "model = LinearRegression()\n",
    "\n",
    "# Perform backward selection\n",
    "while len(selected_features) > 1:\n",
    "    # Train and calculate initial score\n",
    "    X_train = driver_df[selected_features]\n",
    "    model.fit(X_train, y_train)\n",
    "    initial_score = model.score(X_train, y_train)\n",
    "\n",
    "    print(\"Features:\", selected_features, \"Score:\", initial_score)\n",
    "\n",
    "    worst_feature = None\n",
    "    worst_score_diff = 1\n",
    "    \n",
    "    for feature in selected_features:\n",
    "        # Create a new model without the current feature\n",
    "        X_temp = X_train.drop(feature, axis=1)\n",
    "        \n",
    "        # Fit the model on the training data\n",
    "        model.fit(X_temp, y_train)\n",
    "        \n",
    "        # Evaluate the model\n",
    "        score = model.score(X_temp, y_train) \n",
    "\n",
    "        # Find the difference in the scores\n",
    "        score_diff = initial_score - score\n",
    "\n",
    "        print(\"Feature:\", feature, \"Score Diff:\", score_diff, \"Score:\", score)\n",
    "        \n",
    "        # Update the worst feature if the current feature worsens the score\n",
    "        if score_diff < worst_score_diff:\n",
    "            worst_score_diff = score_diff\n",
    "            worst_feature = feature\n",
    "    \n",
    "    # Remove the worst feature from the list of selected features\n",
    "    selected_features.remove(worst_feature)\n",
    "    print(\"Removed Feature:\", worst_feature)\n",
    "\n",
    "# Print final feature score\n",
    "X_train = driver_df[selected_features]\n",
    "model.fit(X_train, y_train)\n",
    "initial_score = model.score(X_train, y_train)\n",
    "\n",
    "print(\"Features:\", selected_features, \"Score:\", initial_score)"
   ]
  },
  {
   "cell_type": "code",
   "execution_count": 8,
   "metadata": {},
   "outputs": [
    {
     "name": "stdout",
     "output_type": "stream",
     "text": [
      "[-1.58104252  5.77884568] 23.058279847922627\n"
     ]
    }
   ],
   "source": [
    "# Extract Data\n",
    "X = driver_df[['position', 'gap_to_leader']]\n",
    "y = driver_df[\"fantasy_points\"]\n",
    "\n",
    "# split into training and test data\n",
    "X_train, X_test, y_train, y_test = train_test_split(X, y, test_size=0.2, random_state=5)\n",
    "\n",
    "# Create the model\n",
    "model = LinearRegression()\n",
    "\n",
    "# Train the model\n",
    "model = model.fit(X_train, y_train)\n",
    "\n",
    "print(model.coef_, model.intercept_)"
   ]
  },
  {
   "cell_type": "code",
   "execution_count": 13,
   "metadata": {},
   "outputs": [
    {
     "data": {
      "text/html": [
       "<div>\n",
       "<style scoped>\n",
       "    .dataframe tbody tr th:only-of-type {\n",
       "        vertical-align: middle;\n",
       "    }\n",
       "\n",
       "    .dataframe tbody tr th {\n",
       "        vertical-align: top;\n",
       "    }\n",
       "\n",
       "    .dataframe thead th {\n",
       "        text-align: right;\n",
       "    }\n",
       "</style>\n",
       "<table border=\"1\" class=\"dataframe\">\n",
       "  <thead>\n",
       "    <tr style=\"text-align: right;\">\n",
       "      <th></th>\n",
       "      <th>position</th>\n",
       "      <th>gap_to_leader</th>\n",
       "    </tr>\n",
       "  </thead>\n",
       "  <tbody>\n",
       "    <tr>\n",
       "      <th>66</th>\n",
       "      <td>3</td>\n",
       "      <td>0.355</td>\n",
       "    </tr>\n",
       "    <tr>\n",
       "      <th>32</th>\n",
       "      <td>14</td>\n",
       "      <td>1.163</td>\n",
       "    </tr>\n",
       "    <tr>\n",
       "      <th>46</th>\n",
       "      <td>5</td>\n",
       "      <td>0.172</td>\n",
       "    </tr>\n",
       "    <tr>\n",
       "      <th>28</th>\n",
       "      <td>6</td>\n",
       "      <td>0.626</td>\n",
       "    </tr>\n",
       "    <tr>\n",
       "      <th>74</th>\n",
       "      <td>18</td>\n",
       "      <td>1.779</td>\n",
       "    </tr>\n",
       "    <tr>\n",
       "      <th>23</th>\n",
       "      <td>2</td>\n",
       "      <td>0.196</td>\n",
       "    </tr>\n",
       "    <tr>\n",
       "      <th>10</th>\n",
       "      <td>16</td>\n",
       "      <td>1.176</td>\n",
       "    </tr>\n",
       "    <tr>\n",
       "      <th>20</th>\n",
       "      <td>1</td>\n",
       "      <td>0.000</td>\n",
       "    </tr>\n",
       "    <tr>\n",
       "      <th>17</th>\n",
       "      <td>13</td>\n",
       "      <td>0.807</td>\n",
       "    </tr>\n",
       "    <tr>\n",
       "      <th>35</th>\n",
       "      <td>20</td>\n",
       "      <td>5.000</td>\n",
       "    </tr>\n",
       "    <tr>\n",
       "      <th>97</th>\n",
       "      <td>12</td>\n",
       "      <td>1.704</td>\n",
       "    </tr>\n",
       "    <tr>\n",
       "      <th>37</th>\n",
       "      <td>13</td>\n",
       "      <td>1.160</td>\n",
       "    </tr>\n",
       "    <tr>\n",
       "      <th>70</th>\n",
       "      <td>15</td>\n",
       "      <td>1.504</td>\n",
       "    </tr>\n",
       "    <tr>\n",
       "      <th>40</th>\n",
       "      <td>2</td>\n",
       "      <td>0.020</td>\n",
       "    </tr>\n",
       "    <tr>\n",
       "      <th>60</th>\n",
       "      <td>1</td>\n",
       "      <td>0.000</td>\n",
       "    </tr>\n",
       "    <tr>\n",
       "      <th>34</th>\n",
       "      <td>7</td>\n",
       "      <td>0.715</td>\n",
       "    </tr>\n",
       "    <tr>\n",
       "      <th>42</th>\n",
       "      <td>10</td>\n",
       "      <td>0.776</td>\n",
       "    </tr>\n",
       "    <tr>\n",
       "      <th>57</th>\n",
       "      <td>11</td>\n",
       "      <td>0.959</td>\n",
       "    </tr>\n",
       "    <tr>\n",
       "      <th>12</th>\n",
       "      <td>18</td>\n",
       "      <td>1.300</td>\n",
       "    </tr>\n",
       "    <tr>\n",
       "      <th>69</th>\n",
       "      <td>17</td>\n",
       "      <td>1.578</td>\n",
       "    </tr>\n",
       "  </tbody>\n",
       "</table>\n",
       "</div>"
      ],
      "text/plain": [
       "    position  gap_to_leader\n",
       "66         3          0.355\n",
       "32        14          1.163\n",
       "46         5          0.172\n",
       "28         6          0.626\n",
       "74        18          1.779\n",
       "23         2          0.196\n",
       "10        16          1.176\n",
       "20         1          0.000\n",
       "17        13          0.807\n",
       "35        20          5.000\n",
       "97        12          1.704\n",
       "37        13          1.160\n",
       "70        15          1.504\n",
       "40         2          0.020\n",
       "60         1          0.000\n",
       "34         7          0.715\n",
       "42        10          0.776\n",
       "57        11          0.959\n",
       "12        18          1.300\n",
       "69        17          1.578"
      ]
     },
     "execution_count": 13,
     "metadata": {},
     "output_type": "execute_result"
    }
   ],
   "source": [
    "X_test"
   ]
  },
  {
   "cell_type": "code",
   "execution_count": 9,
   "metadata": {},
   "outputs": [],
   "source": [
    "# make predictions on test data\n",
    "y_pred = model.predict(X_test)"
   ]
  },
  {
   "cell_type": "code",
   "execution_count": 10,
   "metadata": {},
   "outputs": [
    {
     "data": {
      "text/plain": [
       "0.06851590277019703"
      ]
     },
     "execution_count": 10,
     "metadata": {},
     "output_type": "execute_result"
    }
   ],
   "source": [
    "model.score(X_test, y_test)"
   ]
  },
  {
   "cell_type": "markdown",
   "metadata": {},
   "source": [
    "## Constructor model - Multiple regression "
   ]
  },
  {
   "cell_type": "code",
   "execution_count": 16,
   "metadata": {},
   "outputs": [],
   "source": [
    "constructor_df = pd.read_csv(\"data/constructor_data_v2.csv\")"
   ]
  },
  {
   "cell_type": "code",
   "execution_count": 17,
   "metadata": {},
   "outputs": [
    {
     "data": {
      "text/html": [
       "<div>\n",
       "<style scoped>\n",
       "    .dataframe tbody tr th:only-of-type {\n",
       "        vertical-align: middle;\n",
       "    }\n",
       "\n",
       "    .dataframe tbody tr th {\n",
       "        vertical-align: top;\n",
       "    }\n",
       "\n",
       "    .dataframe thead th {\n",
       "        text-align: right;\n",
       "    }\n",
       "</style>\n",
       "<table border=\"1\" class=\"dataframe\">\n",
       "  <thead>\n",
       "    <tr style=\"text-align: right;\">\n",
       "      <th></th>\n",
       "      <th>constructor</th>\n",
       "      <th>r1</th>\n",
       "      <th>r2</th>\n",
       "      <th>r3</th>\n",
       "      <th>r4</th>\n",
       "      <th>r5</th>\n",
       "      <th>picked</th>\n",
       "    </tr>\n",
       "  </thead>\n",
       "  <tbody>\n",
       "    <tr>\n",
       "      <th>0</th>\n",
       "      <td>RED</td>\n",
       "      <td>89</td>\n",
       "      <td>90</td>\n",
       "      <td>32</td>\n",
       "      <td>108</td>\n",
       "      <td>126</td>\n",
       "      <td>2.4</td>\n",
       "    </tr>\n",
       "    <tr>\n",
       "      <th>1</th>\n",
       "      <td>FER</td>\n",
       "      <td>73</td>\n",
       "      <td>58</td>\n",
       "      <td>92</td>\n",
       "      <td>59</td>\n",
       "      <td>74</td>\n",
       "      <td>3.0</td>\n",
       "    </tr>\n",
       "    <tr>\n",
       "      <th>2</th>\n",
       "      <td>MER</td>\n",
       "      <td>42</td>\n",
       "      <td>36</td>\n",
       "      <td>-17</td>\n",
       "      <td>28</td>\n",
       "      <td>62</td>\n",
       "      <td>0.0</td>\n",
       "    </tr>\n",
       "    <tr>\n",
       "      <th>3</th>\n",
       "      <td>MCL</td>\n",
       "      <td>36</td>\n",
       "      <td>41</td>\n",
       "      <td>54</td>\n",
       "      <td>39</td>\n",
       "      <td>62</td>\n",
       "      <td>0.6</td>\n",
       "    </tr>\n",
       "    <tr>\n",
       "      <th>4</th>\n",
       "      <td>AST</td>\n",
       "      <td>20</td>\n",
       "      <td>9</td>\n",
       "      <td>35</td>\n",
       "      <td>32</td>\n",
       "      <td>29</td>\n",
       "      <td>0.0</td>\n",
       "    </tr>\n",
       "    <tr>\n",
       "      <th>5</th>\n",
       "      <td>ALP</td>\n",
       "      <td>12</td>\n",
       "      <td>-13</td>\n",
       "      <td>6</td>\n",
       "      <td>11</td>\n",
       "      <td>28</td>\n",
       "      <td>0.0</td>\n",
       "    </tr>\n",
       "    <tr>\n",
       "      <th>6</th>\n",
       "      <td>HAA</td>\n",
       "      <td>9</td>\n",
       "      <td>19</td>\n",
       "      <td>20</td>\n",
       "      <td>20</td>\n",
       "      <td>26</td>\n",
       "      <td>0.0</td>\n",
       "    </tr>\n",
       "    <tr>\n",
       "      <th>7</th>\n",
       "      <td>WIL</td>\n",
       "      <td>4</td>\n",
       "      <td>14</td>\n",
       "      <td>5</td>\n",
       "      <td>-10</td>\n",
       "      <td>20</td>\n",
       "      <td>0.0</td>\n",
       "    </tr>\n",
       "    <tr>\n",
       "      <th>8</th>\n",
       "      <td>KCK</td>\n",
       "      <td>10</td>\n",
       "      <td>-4</td>\n",
       "      <td>7</td>\n",
       "      <td>-8</td>\n",
       "      <td>4</td>\n",
       "      <td>0.0</td>\n",
       "    </tr>\n",
       "    <tr>\n",
       "      <th>9</th>\n",
       "      <td>VRB</td>\n",
       "      <td>7</td>\n",
       "      <td>4</td>\n",
       "      <td>24</td>\n",
       "      <td>-4</td>\n",
       "      <td>-14</td>\n",
       "      <td>0.0</td>\n",
       "    </tr>\n",
       "  </tbody>\n",
       "</table>\n",
       "</div>"
      ],
      "text/plain": [
       "  constructor  r1  r2  r3   r4   r5  picked\n",
       "0         RED  89  90  32  108  126     2.4\n",
       "1         FER  73  58  92   59   74     3.0\n",
       "2         MER  42  36 -17   28   62     0.0\n",
       "3         MCL  36  41  54   39   62     0.6\n",
       "4         AST  20   9  35   32   29     0.0\n",
       "5         ALP  12 -13   6   11   28     0.0\n",
       "6         HAA   9  19  20   20   26     0.0\n",
       "7         WIL   4  14   5  -10   20     0.0\n",
       "8         KCK  10  -4   7   -8    4     0.0\n",
       "9         VRB   7   4  24   -4  -14     0.0"
      ]
     },
     "execution_count": 17,
     "metadata": {},
     "output_type": "execute_result"
    }
   ],
   "source": [
    "constructor_df"
   ]
  },
  {
   "cell_type": "code",
   "execution_count": 18,
   "metadata": {},
   "outputs": [
    {
     "data": {
      "image/png": "[encoded data removed]",
      "text/plain": [
       "<Figure size 1500x500 with 5 Axes>"
      ]
     },
     "metadata": {},
     "output_type": "display_data"
    }
   ],
   "source": [
    "# Make sure the relationship looks linear\n",
    "possible_features = ['r1', 'r2', 'r3', 'r4', 'r5']\n",
    "\n",
    "# Create 3 axes in 1 row that don't share the y axis\n",
    "fig, axes = plt.subplots(nrows=1, ncols=len(possible_features), figsize=(15, 5), sharey=False)\n",
    "\n",
    "# Loop through \n",
    "for index, feature in enumerate(possible_features):\n",
    "    sns.scatterplot(data=constructor_df, x=feature, y=\"picked\", ax=axes[index])\n",
    "    axes[index].set_title(f'picked vs {feature}')\n",
    "\n",
    "fig.suptitle(\"Scatterplots of if constructor is picked for fantasy team against other features\", fontsize=16)\n",
    "fig.tight_layout()"
   ]
  },
  {
   "cell_type": "markdown",
   "metadata": {},
   "source": [
    "## Use backward elimination to select our features"
   ]
  },
  {
   "cell_type": "code",
   "execution_count": null,
   "metadata": {},
   "outputs": [],
   "source": [
    "# Create the model with everything first\n",
    "selected_features = [\"r1\", \"r2\", \"r3\", \"r4\", \"r5\"]\n",
    "y_train = constructor_df[\"picked\"]\n",
    "\n",
    "# Initialize the model\n",
    "model = LinearRegression()\n",
    "\n",
    "# Perform backward selection\n",
    "while len(selected_features) > 1:\n",
    "    # Train and calculate initial score\n",
    "    X_train = constructor_df[selected_features]\n",
    "    model.fit(X_train, y_train)\n",
    "    initial_score = model.score(X_train, y_train)\n",
    "\n",
    "    print(\"Features:\", selected_features, \"Score:\", initial_score)\n",
    "\n",
    "    worst_feature = None\n",
    "    worst_score_diff = 1\n",
    "    \n",
    "    for feature in selected_features:\n",
    "        # Create a new model without the current feature\n",
    "        X_temp = X_train.drop(feature, axis=1)\n",
    "        \n",
    "        # Fit the model on the training data\n",
    "        model.fit(X_temp, y_train)\n",
    "        \n",
    "        # Evaluate the model\n",
    "        score = model.score(X_temp, y_train) \n",
    "\n",
    "        # Find the difference in the scores\n",
    "        score_diff = initial_score - score\n",
    "\n",
    "        print(\"Feature:\", feature, \"Score Diff:\", score_diff, \"Score:\", score)\n",
    "        \n",
    "        # Update the worst feature if the current feature worsens the score\n",
    "        if score_diff < worst_score_diff:\n",
    "            worst_score_diff = score_diff\n",
    "            worst_feature = feature\n",
    "    \n",
    "    # Remove the worst feature from the list of selected features\n",
    "    selected_features.remove(worst_feature)\n",
    "    print(\"Removed Feature:\", worst_feature)\n",
    "\n",
    "# Print final feature score\n",
    "X_train = constructor_df[selected_features]\n",
    "model.fit(X_train, y_train)\n",
    "initial_score = model.score(X_train, y_train)\n",
    "\n",
    "print(\"Features:\", selected_features, \"Score:\", initial_score)"
   ]
  },
  {
   "cell_type": "markdown",
   "metadata": {},
   "source": [
    "Should onlt use features 'r1', 'r3', and 'r4' because the provide the best score without over-fitting the data"
   ]
  },
  {
   "cell_type": "code",
   "execution_count": 28,
   "metadata": {},
   "outputs": [
    {
     "name": "stdout",
     "output_type": "stream",
     "text": [
      "[ 0.0386296   0.01454342 -0.01013457] -0.6915012284458744\n"
     ]
    }
   ],
   "source": [
    "# Extract Data\n",
    "X = constructor_df[[\"r1\", \"r3\", \"r4\"]]\n",
    "y = constructor_df[\"picked\"]\n",
    "\n",
    "# split into training and test data\n",
    "X_train, X_test, y_train, y_test = train_test_split(X, y, test_size=0.2, random_state=5)\n",
    "\n",
    "# Create the model\n",
    "model = LinearRegression()\n",
    "\n",
    "# Train the model\n",
    "model = model.fit(X_train, y_train)\n",
    "\n",
    "print(model.coef_, model.intercept_)"
   ]
  },
  {
   "cell_type": "code",
   "execution_count": 29,
   "metadata": {},
   "outputs": [],
   "source": [
    "# make predictions on test data\n",
    "y_pred = model.predict(X_test)"
   ]
  },
  {
   "cell_type": "code",
   "execution_count": 31,
   "metadata": {},
   "outputs": [
    {
     "data": {
      "text/plain": [
       "0.0"
      ]
     },
     "execution_count": 31,
     "metadata": {},
     "output_type": "execute_result"
    }
   ],
   "source": [
    "# accuracy\n",
    "model.score(X_test, y_test)"
   ]
  },
  {
   "cell_type": "markdown",
   "metadata": {},
   "source": [
    "# Driver model --> logistic regression"
   ]
  },
  {
   "cell_type": "code",
   "execution_count": 14,
   "metadata": {},
   "outputs": [],
   "source": [
    "import pandas as pd\n",
    "import seaborn as sns\n",
    "import matplotlib.pyplot as plt\n",
    "from sklearn.linear_model import LogisticRegression\n",
    "from sklearn.model_selection import train_test_split\n",
    "from sklearn.metrics import confusion_matrix"
   ]
  },
  {
   "cell_type": "code",
   "execution_count": 15,
   "metadata": {},
   "outputs": [],
   "source": [
    "df = pd.read_csv(\"data/driver_data_v4.csv\")"
   ]
  },
  {
   "cell_type": "code",
   "execution_count": 17,
   "metadata": {},
   "outputs": [],
   "source": [
    "# extract data\n",
    "X = df[[\"position\", \"gap_to_leader\"]]\n",
    "y = df[\"picked\"]\n",
    "\n",
    "# split data into train and test \n",
    "X_train, X_test, y_train, y_test = train_test_split(X, y, test_size=0.2, random_state=5)\n",
    "\n",
    "# create model\n",
    "model = LogisticRegression()\n",
    "\n",
    "# train model\n",
    "model = model.fit(X_train, y_train)"
   ]
  },
  {
   "cell_type": "code",
   "execution_count": 18,
   "metadata": {},
   "outputs": [],
   "source": [
    "# make predictions on test data\n",
    "y_pred = model.predict(X_test)"
   ]
  },
  {
   "cell_type": "code",
   "execution_count": 19,
   "metadata": {},
   "outputs": [
    {
     "data": {
      "text/plain": [
       "Text(50.722222222222214, 0.5, 'Actual')"
      ]
     },
     "execution_count": 19,
     "metadata": {},
     "output_type": "execute_result"
    },
    {
     "data": {
      "image/png": "[encoded data removed]",
      "text/plain": [
       "<Figure size 640x480 with 2 Axes>"
      ]
     },
     "metadata": {},
     "output_type": "display_data"
    }
   ],
   "source": [
    "# Create confusion matrix\n",
    "conf_mat = confusion_matrix(y_test, y_pred)\n",
    "\n",
    "# plot \n",
    "sns.heatmap(conf_mat, annot=True)\n",
    "plt.xlabel(\"Predicted\")\n",
    "plt.ylabel(\"Actual\")"
   ]
  },
  {
   "cell_type": "code",
   "execution_count": 20,
   "metadata": {},
   "outputs": [
    {
     "data": {
      "text/plain": [
       "0.6"
      ]
     },
     "execution_count": 20,
     "metadata": {},
     "output_type": "execute_result"
    }
   ],
   "source": [
    "model.score(X_test, y_test)"
   ]
  },
  {
   "cell_type": "code",
   "execution_count": 22,
   "metadata": {},
   "outputs": [
    {
     "name": "stdout",
     "output_type": "stream",
     "text": [
      "[0]\n"
     ]
    },
    {
     "name": "stderr",
     "output_type": "stream",
     "text": [
      "/Users/lilianadhaliwal/Desktop/ATCS/Final Project/.venv/lib/python3.9/site-packages/sklearn/base.py:493: UserWarning: X does not have valid feature names, but LogisticRegression was fitted with feature names\n",
      "  warnings.warn(\n"
     ]
    }
   ],
   "source": [
    "position = int(input(\"What position is the driver? \"))\n",
    "gap = float(input(\"How far behind the leader are they? \"))\n",
    "\n",
    "train = [position, gap]\n",
    "\n",
    "y_pred = model.predict([train])\n",
    "print(y_pred)"
   ]
  }
 ],
 "metadata": {
  "kernelspec": {
   "display_name": ".venv",
   "language": "python",
   "name": "python3"
  },
  "language_info": {
   "codemirror_mode": {
    "name": "ipython",
    "version": 3
   },
   "file_extension": ".py",
   "mimetype": "text/x-python",
   "name": "python",
   "nbconvert_exporter": "python",
   "pygments_lexer": "ipython3",
   "version": "3.9.6"
  },
  "orig_nbformat": 4
 },
 "nbformat": 4,
 "nbformat_minor": 2
}
