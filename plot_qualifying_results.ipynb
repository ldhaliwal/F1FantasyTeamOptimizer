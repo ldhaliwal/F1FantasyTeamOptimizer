{
  "cells": [
    {
      "cell_type": "markdown",
      "metadata": {},
      "source": [
        "# Qualifying results overview\n",
        "\n",
        "Plot the qualifying result with visualization the fastest times.\n"
      ]
    },
    {
      "cell_type": "code",
      "execution_count": 1,
      "metadata": {
        "collapsed": false
      },
      "outputs": [
        {
          "name": "stderr",
          "output_type": "stream",
          "text": [
            "/Users/lilianadhaliwal/Desktop/ATCS/Final Project/.venv/lib/python3.9/site-packages/urllib3/__init__.py:35: NotOpenSSLWarning: urllib3 v2 only supports OpenSSL 1.1.1+, currently the 'ssl' module is compiled with 'LibreSSL 2.8.3'. See: https://github.com/urllib3/urllib3/issues/3020\n",
            "  warnings.warn(\n"
          ]
        }
      ],
      "source": [
        "import matplotlib.pyplot as plt\n",
        "import pandas as pd\n",
        "from timple.timedelta import strftimedelta\n",
        "\n",
        "import fastf1\n",
        "import fastf1.plotting\n",
        "from fastf1.core import Laps\n"
      ]
    },
    {
      "cell_type": "code",
      "execution_count": 3,
      "metadata": {},
      "outputs": [
        {
          "name": "stderr",
          "output_type": "stream",
          "text": [
            "core           INFO \tLoading data for Spanish Grand Prix - Qualifying [v3.3.3]\n",
            "req            INFO \tUsing cached data for session_info\n",
            "req            INFO \tUsing cached data for driver_info\n",
            "req            INFO \tUsing cached data for session_status_data\n",
            "req            INFO \tUsing cached data for track_status_data\n",
            "req            INFO \tUsing cached data for _extended_timing_data\n",
            "req            INFO \tUsing cached data for timing_app_data\n",
            "core           INFO \tProcessing timing data...\n",
            "req            INFO \tUsing cached data for car_data\n",
            "req            INFO \tNo cached data found for position_data. Loading data...\n",
            "_api           INFO \tFetching position data...\n",
            "_api           INFO \tParsing position data...\n",
            "req            INFO \tData has been written to cache!\n",
            "req            INFO \tNo cached data found for weather_data. Loading data...\n",
            "_api           INFO \tFetching weather data...\n",
            "req            INFO \tData has been written to cache!\n",
            "req            INFO \tNo cached data found for race_control_messages. Loading data...\n",
            "_api           INFO \tFetching race control messages...\n",
            "req            INFO \tData has been written to cache!\n",
            "core           INFO \tFinished loading data for 20 drivers: ['44', '33', '77', '16', '31', '55', '3', '11', '4', '14', '18', '10', '5', '99', '63', '22', '7', '47', '6', '9']\n"
          ]
        }
      ],
      "source": [
        "# we only want support for timedelta plotting in this example\n",
        "fastf1.plotting.setup_mpl(mpl_timedelta_support=True, color_scheme=None,\n",
        "                          misc_mpl_mods=False)\n",
        "\n",
        "session = fastf1.get_session(2021, 'Spanish Grand Prix', 'Q')\n",
        "session.load()"
      ]
    },
    {
      "cell_type": "markdown",
      "metadata": {},
      "source": [
        "First, we need to get an array of all drivers.\n",
        "\n"
      ]
    },
    {
      "cell_type": "code",
      "execution_count": 4,
      "metadata": {
        "collapsed": false
      },
      "outputs": [
        {
          "name": "stdout",
          "output_type": "stream",
          "text": [
            "['HAM' 'VER' 'BOT' 'LEC' 'OCO' 'SAI' 'RIC' 'PER' 'NOR' 'ALO' 'STR' 'GAS'\n",
            " 'VET' 'GIO' 'RUS' 'TSU' 'RAI' 'MSC' 'LAT' 'MAZ']\n"
          ]
        }
      ],
      "source": [
        "drivers = pd.unique(session.laps['Driver'])\n",
        "print(drivers)"
      ]
    },
    {
      "cell_type": "markdown",
      "metadata": {},
      "source": [
        "After that we'll get each drivers fastest lap, create a new laps object\n",
        "from these laps, sort them by lap time and have pandas reindex them to\n",
        "number them nicely by starting position.\n",
        "\n"
      ]
    },
    {
      "cell_type": "code",
      "execution_count": 5,
      "metadata": {
        "collapsed": false
      },
      "outputs": [],
      "source": [
        "list_fastest_laps = list()\n",
        "for drv in drivers:\n",
        "    drvs_fastest_lap = session.laps.pick_driver(drv).pick_fastest()\n",
        "    list_fastest_laps.append(drvs_fastest_lap)\n",
        "fastest_laps = Laps(list_fastest_laps) \\\n",
        "    .sort_values(by='LapTime') \\\n",
        "    .reset_index(drop=True)"
      ]
    },
    {
      "cell_type": "markdown",
      "metadata": {},
      "source": [
        "The plot is nicer to look at and more easily understandable if we just plot\n",
        "the time differences. Therefore we subtract the fastest lap time from all\n",
        "other lap times.\n",
        "\n"
      ]
    },
    {
      "cell_type": "code",
      "execution_count": 6,
      "metadata": {
        "collapsed": false
      },
      "outputs": [],
      "source": [
        "pole_lap = fastest_laps.pick_fastest()\n",
        "fastest_laps['LapTimeDelta'] = fastest_laps['LapTime'] - pole_lap['LapTime']"
      ]
    },
    {
      "cell_type": "markdown",
      "metadata": {},
      "source": [
        "We can take a quick look at the laps we have to check if everything\n",
        "looks all right. For this, we'll just check the 'Driver', 'LapTime'\n",
        "and 'LapTimeDelta' columns.\n",
        "\n"
      ]
    },
    {
      "cell_type": "code",
      "execution_count": 7,
      "metadata": {
        "collapsed": false
      },
      "outputs": [
        {
          "name": "stdout",
          "output_type": "stream",
          "text": [
            "   Driver                LapTime           LapTimeDelta\n",
            "0     HAM 0 days 00:01:16.741000        0 days 00:00:00\n",
            "1     VER 0 days 00:01:16.777000 0 days 00:00:00.036000\n",
            "2     BOT 0 days 00:01:16.873000 0 days 00:00:00.132000\n",
            "3     LEC 0 days 00:01:17.510000 0 days 00:00:00.769000\n",
            "4     OCO 0 days 00:01:17.580000 0 days 00:00:00.839000\n",
            "5     SAI 0 days 00:01:17.620000 0 days 00:00:00.879000\n",
            "6     RIC 0 days 00:01:17.622000 0 days 00:00:00.881000\n",
            "7     PER 0 days 00:01:17.669000 0 days 00:00:00.928000\n",
            "8     NOR 0 days 00:01:17.696000 0 days 00:00:00.955000\n",
            "9     ALO 0 days 00:01:17.966000 0 days 00:00:01.225000\n",
            "10    STR 0 days 00:01:17.974000 0 days 00:00:01.233000\n",
            "11    GAS 0 days 00:01:17.982000 0 days 00:00:01.241000\n",
            "12    VET 0 days 00:01:18.079000 0 days 00:00:01.338000\n",
            "13    GIO 0 days 00:01:18.356000 0 days 00:00:01.615000\n",
            "14    RUS 0 days 00:01:18.445000 0 days 00:00:01.704000\n",
            "15    TSU 0 days 00:01:18.556000 0 days 00:00:01.815000\n",
            "16    RAI 0 days 00:01:18.917000 0 days 00:00:02.176000\n",
            "17    MSC 0 days 00:01:19.117000 0 days 00:00:02.376000\n",
            "18    LAT 0 days 00:01:19.219000 0 days 00:00:02.478000\n",
            "19    MAZ 0 days 00:01:19.807000 0 days 00:00:03.066000\n"
          ]
        }
      ],
      "source": [
        "print(fastest_laps[['Driver', 'LapTime', 'LapTimeDelta']])"
      ]
    },
    {
      "cell_type": "markdown",
      "metadata": {},
      "source": [
        "Finally, we'll create a list of team colors per lap to color our plot.\n",
        "\n"
      ]
    },
    {
      "cell_type": "code",
      "execution_count": 9,
      "metadata": {
        "collapsed": false
      },
      "outputs": [
        {
          "ename": "KeyError",
          "evalue": "",
          "output_type": "error",
          "traceback": [
            "\u001b[0;31m---------------------------------------------------------------------------\u001b[0m",
            "\u001b[0;31mKeyError\u001b[0m                                  Traceback (most recent call last)",
            "\u001b[1;32m/Users/lilianadhaliwal/Desktop/ATCS/Final Project/plot_qualifying_results.ipynb Cell 13\u001b[0m line \u001b[0;36m3\n\u001b[1;32m      <a href='vscode-notebook-cell:/Users/lilianadhaliwal/Desktop/ATCS/Final%20Project/plot_qualifying_results.ipynb#X14sZmlsZQ%3D%3D?line=0'>1</a>\u001b[0m team_colors \u001b[39m=\u001b[39m \u001b[39mlist\u001b[39m()\n\u001b[1;32m      <a href='vscode-notebook-cell:/Users/lilianadhaliwal/Desktop/ATCS/Final%20Project/plot_qualifying_results.ipynb#X14sZmlsZQ%3D%3D?line=1'>2</a>\u001b[0m \u001b[39mfor\u001b[39;00m index, lap \u001b[39min\u001b[39;00m fastest_laps\u001b[39m.\u001b[39miterlaps():\n\u001b[0;32m----> <a href='vscode-notebook-cell:/Users/lilianadhaliwal/Desktop/ATCS/Final%20Project/plot_qualifying_results.ipynb#X14sZmlsZQ%3D%3D?line=2'>3</a>\u001b[0m     color \u001b[39m=\u001b[39m fastf1\u001b[39m.\u001b[39;49mplotting\u001b[39m.\u001b[39;49mteam_color(lap[\u001b[39m'\u001b[39;49m\u001b[39mTeam\u001b[39;49m\u001b[39m'\u001b[39;49m])\n\u001b[1;32m      <a href='vscode-notebook-cell:/Users/lilianadhaliwal/Desktop/ATCS/Final%20Project/plot_qualifying_results.ipynb#X14sZmlsZQ%3D%3D?line=3'>4</a>\u001b[0m     team_colors\u001b[39m.\u001b[39mappend(color)\n",
            "File \u001b[0;32m~/Desktop/ATCS/Final Project/.venv/lib/python3.9/site-packages/fastf1/plotting.py:372\u001b[0m, in \u001b[0;36mteam_color\u001b[0;34m(identifier)\u001b[0m\n\u001b[1;32m    366\u001b[0m key_ratios\u001b[39m.\u001b[39msort(reverse\u001b[39m=\u001b[39m\u001b[39mTrue\u001b[39;00m)\n\u001b[1;32m    367\u001b[0m \u001b[39mif\u001b[39;00m ((key_ratios[\u001b[39m0\u001b[39m][\u001b[39m0\u001b[39m] \u001b[39m<\u001b[39m \u001b[39m35\u001b[39m)\n\u001b[1;32m    368\u001b[0m         \u001b[39mor\u001b[39;00m (key_ratios[\u001b[39m0\u001b[39m][\u001b[39m0\u001b[39m] \u001b[39m/\u001b[39m key_ratios[\u001b[39m1\u001b[39m][\u001b[39m0\u001b[39m] \u001b[39m<\u001b[39m \u001b[39m1.2\u001b[39m)):\n\u001b[1;32m    369\u001b[0m     \u001b[39m# ensure that the best match has a minimum accuracy (35 out of\u001b[39;00m\n\u001b[1;32m    370\u001b[0m     \u001b[39m# 100) and that it has a minimum confidence (at least 20% better\u001b[39;00m\n\u001b[1;32m    371\u001b[0m     \u001b[39m# than second best)\u001b[39;00m\n\u001b[0;32m--> 372\u001b[0m     \u001b[39mraise\u001b[39;00m \u001b[39mKeyError\u001b[39;00m\n\u001b[1;32m    373\u001b[0m best_matched_key \u001b[39m=\u001b[39m key_ratios[\u001b[39m0\u001b[39m][\u001b[39m1\u001b[39m]\n\u001b[1;32m    374\u001b[0m \u001b[39mreturn\u001b[39;00m TEAM_COLORS[best_matched_key]\n",
            "\u001b[0;31mKeyError\u001b[0m: "
          ]
        }
      ],
      "source": [
        "team_colors = list()\n",
        "for index, lap in fastest_laps.iterlaps():\n",
        "    color = fastf1.plotting.team_color(lap['Team'])\n",
        "    team_colors.append(color)"
      ]
    },
    {
      "cell_type": "markdown",
      "metadata": {},
      "source": [
        "Now, we can plot all the data\n",
        "\n"
      ]
    },
    {
      "cell_type": "code",
      "execution_count": null,
      "metadata": {
        "collapsed": false
      },
      "outputs": [],
      "source": [
        "fig, ax = plt.subplots()\n",
        "ax.barh(fastest_laps.index, fastest_laps['LapTimeDelta'],\n",
        "        color=team_colors, edgecolor='grey')\n",
        "ax.set_yticks(fastest_laps.index)\n",
        "ax.set_yticklabels(fastest_laps['Driver'])\n",
        "\n",
        "# show fastest at the top\n",
        "ax.invert_yaxis()\n",
        "\n",
        "# draw vertical lines behind the bars\n",
        "ax.set_axisbelow(True)\n",
        "ax.xaxis.grid(True, which='major', linestyle='--', color='black', zorder=-1000)"
      ]
    },
    {
      "cell_type": "markdown",
      "metadata": {},
      "source": [
        "Finally, give the plot a meaningful title\n",
        "\n"
      ]
    },
    {
      "cell_type": "code",
      "execution_count": null,
      "metadata": {
        "collapsed": false
      },
      "outputs": [],
      "source": [
        "lap_time_string = strftimedelta(pole_lap['LapTime'], '%m:%s.%ms')\n",
        "\n",
        "plt.suptitle(f\"{session.event['EventName']} {session.event.year} Qualifying\\n\"\n",
        "             f\"Fastest Lap: {lap_time_string} ({pole_lap['Driver']})\")\n",
        "\n",
        "plt.show()"
      ]
    }
  ],
  "metadata": {
    "kernelspec": {
      "display_name": "Python 3",
      "language": "python",
      "name": "python3"
    },
    "language_info": {
      "codemirror_mode": {
        "name": "ipython",
        "version": 3
      },
      "file_extension": ".py",
      "mimetype": "text/x-python",
      "name": "python",
      "nbconvert_exporter": "python",
      "pygments_lexer": "ipython3",
      "version": "3.9.6"
    }
  },
  "nbformat": 4,
  "nbformat_minor": 0
}
